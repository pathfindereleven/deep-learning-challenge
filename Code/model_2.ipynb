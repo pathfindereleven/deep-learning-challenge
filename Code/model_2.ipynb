{
 "cells": [
  {
   "cell_type": "markdown",
   "metadata": {},
   "source": [
    "## Preprocessing"
   ]
  },
  {
   "cell_type": "code",
   "execution_count": 1,
   "metadata": {},
   "outputs": [],
   "source": [
    "# Import our dependencies\n",
    "from sklearn.model_selection import train_test_split\n",
    "from sklearn.preprocessing import StandardScaler\n",
    "import pandas as pd\n",
    "import tensorflow as tf\n",
    "\n",
    "#  Import and read the charity_data.csv.\n",
    "import pandas as pd \n",
    "application_df = pd.read_csv(\"https://static.bc-edx.com/data/dl-1-2/m21/lms/starter/charity_data.csv\")\n"
   ]
  },
  {
   "cell_type": "code",
   "execution_count": 2,
   "metadata": {},
   "outputs": [
    {
     "data": {
      "text/html": [
       "<div>\n",
       "<style scoped>\n",
       "    .dataframe tbody tr th:only-of-type {\n",
       "        vertical-align: middle;\n",
       "    }\n",
       "\n",
       "    .dataframe tbody tr th {\n",
       "        vertical-align: top;\n",
       "    }\n",
       "\n",
       "    .dataframe thead th {\n",
       "        text-align: right;\n",
       "    }\n",
       "</style>\n",
       "<table border=\"1\" class=\"dataframe\">\n",
       "  <thead>\n",
       "    <tr style=\"text-align: right;\">\n",
       "      <th></th>\n",
       "      <th>APPLICATION_TYPE</th>\n",
       "      <th>AFFILIATION</th>\n",
       "      <th>CLASSIFICATION</th>\n",
       "      <th>USE_CASE</th>\n",
       "      <th>ORGANIZATION</th>\n",
       "      <th>STATUS</th>\n",
       "      <th>INCOME_AMT</th>\n",
       "      <th>SPECIAL_CONSIDERATIONS</th>\n",
       "      <th>ASK_AMT</th>\n",
       "      <th>IS_SUCCESSFUL</th>\n",
       "    </tr>\n",
       "  </thead>\n",
       "  <tbody>\n",
       "    <tr>\n",
       "      <th>0</th>\n",
       "      <td>T10</td>\n",
       "      <td>Independent</td>\n",
       "      <td>C1000</td>\n",
       "      <td>ProductDev</td>\n",
       "      <td>Association</td>\n",
       "      <td>1</td>\n",
       "      <td>0</td>\n",
       "      <td>N</td>\n",
       "      <td>5000</td>\n",
       "      <td>1</td>\n",
       "    </tr>\n",
       "    <tr>\n",
       "      <th>1</th>\n",
       "      <td>T3</td>\n",
       "      <td>Independent</td>\n",
       "      <td>C2000</td>\n",
       "      <td>Preservation</td>\n",
       "      <td>Co-operative</td>\n",
       "      <td>1</td>\n",
       "      <td>1-9999</td>\n",
       "      <td>N</td>\n",
       "      <td>108590</td>\n",
       "      <td>1</td>\n",
       "    </tr>\n",
       "    <tr>\n",
       "      <th>2</th>\n",
       "      <td>T5</td>\n",
       "      <td>CompanySponsored</td>\n",
       "      <td>C3000</td>\n",
       "      <td>ProductDev</td>\n",
       "      <td>Association</td>\n",
       "      <td>1</td>\n",
       "      <td>0</td>\n",
       "      <td>N</td>\n",
       "      <td>5000</td>\n",
       "      <td>0</td>\n",
       "    </tr>\n",
       "  </tbody>\n",
       "</table>\n",
       "</div>"
      ],
      "text/plain": [
       "  APPLICATION_TYPE       AFFILIATION CLASSIFICATION      USE_CASE  \\\n",
       "0              T10       Independent          C1000    ProductDev   \n",
       "1               T3       Independent          C2000  Preservation   \n",
       "2               T5  CompanySponsored          C3000    ProductDev   \n",
       "\n",
       "   ORGANIZATION  STATUS INCOME_AMT SPECIAL_CONSIDERATIONS  ASK_AMT  \\\n",
       "0   Association       1          0                      N     5000   \n",
       "1  Co-operative       1     1-9999                      N   108590   \n",
       "2   Association       1          0                      N     5000   \n",
       "\n",
       "   IS_SUCCESSFUL  \n",
       "0              1  \n",
       "1              1  \n",
       "2              0  "
      ]
     },
     "execution_count": 2,
     "metadata": {},
     "output_type": "execute_result"
    }
   ],
   "source": [
    "# Drop the non-beneficial ID columns, 'EIN' and 'NAME'.\n",
    "application_df.drop(['EIN', 'NAME'], axis =1, inplace =True)\n",
    "application_df.head(3)"
   ]
  },
  {
   "cell_type": "code",
   "execution_count": 3,
   "metadata": {},
   "outputs": [],
   "source": [
    "# Convert categorical data to numeric with `pd.get_dummies`\n",
    "application_df = pd.get_dummies(application_df,dtype=float)"
   ]
  },
  {
   "cell_type": "code",
   "execution_count": 4,
   "metadata": {},
   "outputs": [],
   "source": [
    "# Split our preprocessed data into our features and target arrays\n",
    "y = application_df.IS_SUCCESSFUL.values\n",
    "\n",
    "X = application_df.drop('IS_SUCCESSFUL',axis = 1).values\n",
    "# Split the preprocessed data into a training and testing dataset\n",
    "X_train, X_test, y_train, y_test = train_test_split(X, y, random_state=1)"
   ]
  },
  {
   "cell_type": "code",
   "execution_count": 5,
   "metadata": {},
   "outputs": [],
   "source": [
    "# Create a StandardScaler instances\n",
    "scaler = StandardScaler()\n",
    "\n",
    "# Fit the StandardScaler\n",
    "X_scaler = scaler.fit(X_train)\n",
    "\n",
    "# Scale the data\n",
    "X_train_scaled = X_scaler.transform(X_train)\n",
    "X_test_scaled = X_scaler.transform(X_test)"
   ]
  },
  {
   "cell_type": "markdown",
   "metadata": {},
   "source": [
    "## Compile, Train and Evaluate the Model"
   ]
  },
  {
   "cell_type": "code",
   "execution_count": 6,
   "metadata": {},
   "outputs": [
    {
     "name": "stdout",
     "output_type": "stream",
     "text": [
      "Model: \"sequential\"\n",
      "_________________________________________________________________\n",
      " Layer (type)                Output Shape              Param #   \n",
      "=================================================================\n",
      " dense (Dense)               (None, 3)                 351       \n",
      "                                                                 \n",
      " dense_1 (Dense)             (None, 6)                 24        \n",
      "                                                                 \n",
      " dense_2 (Dense)             (None, 1)                 7         \n",
      "                                                                 \n",
      "=================================================================\n",
      "Total params: 382 (1.49 KB)\n",
      "Trainable params: 382 (1.49 KB)\n",
      "Non-trainable params: 0 (0.00 Byte)\n",
      "_________________________________________________________________\n"
     ]
    }
   ],
   "source": [
    "# Define the model - deep neural net, i.e., the number of input features and hidden nodes for each layer.\n",
    "number_input_features = len(X_train[0])\n",
    "\n",
    "hidden_nodes_layer1 = 3\n",
    "\n",
    "hidden_nodes_layer2 = 6\n",
    "\n",
    "\n",
    "nn = tf.keras.models.Sequential()\n",
    "\n",
    "# First hidden layer\n",
    "nn.add(tf.keras.layers.Dense(units=hidden_nodes_layer1, input_dim=number_input_features, activation=\"relu\"))\n",
    "\n",
    "# Second hidden layer\n",
    "nn.add(tf.keras.layers.Dense(units=hidden_nodes_layer2, activation=\"relu\"))\n",
    "\n",
    "# Output layer\n",
    "nn.add(tf.keras.layers.Dense(units=1, activation='sigmoid'))\n",
    "\n",
    "# Check the structure of the model\n",
    "nn.summary()"
   ]
  },
  {
   "cell_type": "code",
   "execution_count": 7,
   "metadata": {},
   "outputs": [],
   "source": [
    "# Compile the model\n",
    "nn.compile(loss=\"binary_crossentropy\", optimizer=\"adam\", metrics=[\"accuracy\"])"
   ]
  },
  {
   "cell_type": "code",
   "execution_count": 8,
   "metadata": {},
   "outputs": [
    {
     "name": "stdout",
     "output_type": "stream",
     "text": [
      "Epoch 1/50\n",
      "804/804 [==============================] - 2s 2ms/step - loss: 0.6125 - accuracy: 0.6941\n",
      "Epoch 2/50\n",
      "804/804 [==============================] - 1s 2ms/step - loss: 0.5676 - accuracy: 0.7236\n",
      "Epoch 3/50\n",
      "804/804 [==============================] - 1s 2ms/step - loss: 0.5585 - accuracy: 0.7234\n",
      "Epoch 4/50\n",
      "804/804 [==============================] - 1s 2ms/step - loss: 0.5558 - accuracy: 0.7249\n",
      "Epoch 5/50\n",
      "804/804 [==============================] - 1s 2ms/step - loss: 0.5540 - accuracy: 0.7266\n",
      "Epoch 6/50\n",
      "804/804 [==============================] - 1s 2ms/step - loss: 0.5533 - accuracy: 0.7259\n",
      "Epoch 7/50\n",
      "804/804 [==============================] - 1s 2ms/step - loss: 0.5523 - accuracy: 0.7262\n",
      "Epoch 8/50\n",
      "804/804 [==============================] - 1s 2ms/step - loss: 0.5513 - accuracy: 0.7282\n",
      "Epoch 9/50\n",
      "804/804 [==============================] - 1s 2ms/step - loss: 0.5513 - accuracy: 0.7271\n",
      "Epoch 10/50\n",
      "804/804 [==============================] - 1s 2ms/step - loss: 0.5504 - accuracy: 0.7269\n",
      "Epoch 11/50\n",
      "804/804 [==============================] - 1s 2ms/step - loss: 0.5502 - accuracy: 0.7274\n",
      "Epoch 12/50\n",
      "804/804 [==============================] - 1s 2ms/step - loss: 0.5500 - accuracy: 0.7286\n",
      "Epoch 13/50\n",
      "804/804 [==============================] - 1s 2ms/step - loss: 0.5495 - accuracy: 0.7275\n",
      "Epoch 14/50\n",
      "804/804 [==============================] - 1s 2ms/step - loss: 0.5493 - accuracy: 0.7282\n",
      "Epoch 15/50\n",
      "804/804 [==============================] - 1s 2ms/step - loss: 0.5487 - accuracy: 0.7297\n",
      "Epoch 16/50\n",
      "804/804 [==============================] - 1s 2ms/step - loss: 0.5485 - accuracy: 0.7301\n",
      "Epoch 17/50\n",
      "804/804 [==============================] - 1s 2ms/step - loss: 0.5484 - accuracy: 0.7298\n",
      "Epoch 18/50\n",
      "804/804 [==============================] - 1s 2ms/step - loss: 0.5483 - accuracy: 0.7287\n",
      "Epoch 19/50\n",
      "804/804 [==============================] - 1s 1ms/step - loss: 0.5483 - accuracy: 0.7308\n",
      "Epoch 20/50\n",
      "804/804 [==============================] - 1s 1ms/step - loss: 0.5481 - accuracy: 0.7295\n",
      "Epoch 21/50\n",
      "804/804 [==============================] - 1s 2ms/step - loss: 0.5482 - accuracy: 0.7295\n",
      "Epoch 22/50\n",
      "804/804 [==============================] - 1s 2ms/step - loss: 0.5482 - accuracy: 0.7310\n",
      "Epoch 23/50\n",
      "804/804 [==============================] - 1s 1ms/step - loss: 0.5479 - accuracy: 0.7301\n",
      "Epoch 24/50\n",
      "804/804 [==============================] - 1s 1ms/step - loss: 0.5483 - accuracy: 0.7296\n",
      "Epoch 25/50\n",
      "804/804 [==============================] - 1s 1ms/step - loss: 0.5479 - accuracy: 0.7315\n",
      "Epoch 26/50\n",
      "804/804 [==============================] - 1s 1ms/step - loss: 0.5480 - accuracy: 0.7302\n",
      "Epoch 27/50\n",
      "804/804 [==============================] - 1s 1ms/step - loss: 0.5477 - accuracy: 0.7301\n",
      "Epoch 28/50\n",
      "804/804 [==============================] - 1s 1ms/step - loss: 0.5479 - accuracy: 0.7310\n",
      "Epoch 29/50\n",
      "804/804 [==============================] - 1s 1ms/step - loss: 0.5478 - accuracy: 0.7307\n",
      "Epoch 30/50\n",
      "804/804 [==============================] - 1s 1ms/step - loss: 0.5477 - accuracy: 0.7303\n",
      "Epoch 31/50\n",
      "804/804 [==============================] - 1s 1ms/step - loss: 0.5476 - accuracy: 0.7309\n",
      "Epoch 32/50\n",
      "804/804 [==============================] - 1s 1ms/step - loss: 0.5478 - accuracy: 0.7317\n",
      "Epoch 33/50\n",
      "804/804 [==============================] - 1s 1ms/step - loss: 0.5477 - accuracy: 0.7308\n",
      "Epoch 34/50\n",
      "804/804 [==============================] - 1s 1ms/step - loss: 0.5475 - accuracy: 0.7309\n",
      "Epoch 35/50\n",
      "804/804 [==============================] - 1s 2ms/step - loss: 0.5478 - accuracy: 0.7298\n",
      "Epoch 36/50\n",
      "804/804 [==============================] - 1s 1ms/step - loss: 0.5473 - accuracy: 0.7311\n",
      "Epoch 37/50\n",
      "804/804 [==============================] - 1s 1ms/step - loss: 0.5475 - accuracy: 0.7308\n",
      "Epoch 38/50\n",
      "804/804 [==============================] - 1s 2ms/step - loss: 0.5472 - accuracy: 0.7306\n",
      "Epoch 39/50\n",
      "804/804 [==============================] - 1s 2ms/step - loss: 0.5473 - accuracy: 0.7310\n",
      "Epoch 40/50\n",
      "804/804 [==============================] - 1s 1ms/step - loss: 0.5471 - accuracy: 0.7311\n",
      "Epoch 41/50\n",
      "804/804 [==============================] - 1s 1ms/step - loss: 0.5472 - accuracy: 0.7310\n",
      "Epoch 42/50\n",
      "804/804 [==============================] - 1s 1ms/step - loss: 0.5473 - accuracy: 0.7318\n",
      "Epoch 43/50\n",
      "804/804 [==============================] - 1s 1ms/step - loss: 0.5473 - accuracy: 0.7318\n",
      "Epoch 44/50\n",
      "804/804 [==============================] - 1s 1ms/step - loss: 0.5472 - accuracy: 0.7308\n",
      "Epoch 45/50\n",
      "804/804 [==============================] - 1s 1ms/step - loss: 0.5470 - accuracy: 0.7304\n",
      "Epoch 46/50\n",
      "804/804 [==============================] - 1s 1ms/step - loss: 0.5473 - accuracy: 0.7317\n",
      "Epoch 47/50\n",
      "804/804 [==============================] - 1s 1ms/step - loss: 0.5470 - accuracy: 0.7318\n",
      "Epoch 48/50\n",
      "804/804 [==============================] - 1s 1ms/step - loss: 0.5470 - accuracy: 0.7313\n",
      "Epoch 49/50\n",
      "804/804 [==============================] - 1s 1ms/step - loss: 0.5470 - accuracy: 0.7311\n",
      "Epoch 50/50\n",
      "804/804 [==============================] - 1s 1ms/step - loss: 0.5470 - accuracy: 0.7305\n"
     ]
    }
   ],
   "source": [
    "# Train the model\n",
    "fit_model = nn.fit(X_train_scaled, y_train, epochs=50)"
   ]
  },
  {
   "cell_type": "code",
   "execution_count": 9,
   "metadata": {},
   "outputs": [
    {
     "name": "stdout",
     "output_type": "stream",
     "text": [
      "268/268 - 0s - loss: 0.5552 - accuracy: 0.7289 - 491ms/epoch - 2ms/step\n",
      "Loss: 0.5551652908325195, Accuracy: 0.728863000869751\n"
     ]
    }
   ],
   "source": [
    "# Evaluate the model using the test data\n",
    "model_loss, model_accuracy = nn.evaluate(X_test_scaled,y_test,verbose=2)\n",
    "print(f\"Loss: {model_loss}, Accuracy: {model_accuracy}\")"
   ]
  },
  {
   "cell_type": "code",
   "execution_count": 10,
   "metadata": {},
   "outputs": [
    {
     "name": "stderr",
     "output_type": "stream",
     "text": [
      "C:\\Users\\pc\\anaconda3\\Lib\\site-packages\\keras\\src\\engine\\training.py:3079: UserWarning: You are saving your model as an HDF5 file via `model.save()`. This file format is considered legacy. We recommend using instead the native Keras format, e.g. `model.save('my_model.keras')`.\n",
      "  saving_api.save_model(\n"
     ]
    }
   ],
   "source": [
    "# Export our model to HDF5 file\n",
    "nn.save(\"model_2.h5\")"
   ]
  },
  {
   "cell_type": "code",
   "execution_count": null,
   "metadata": {},
   "outputs": [],
   "source": []
  }
 ],
 "metadata": {
  "kernelspec": {
   "display_name": "Python 3 (ipykernel)",
   "language": "python",
   "name": "python3"
  },
  "language_info": {
   "codemirror_mode": {
    "name": "ipython",
    "version": 3
   },
   "file_extension": ".py",
   "mimetype": "text/x-python",
   "name": "python",
   "nbconvert_exporter": "python",
   "pygments_lexer": "ipython3",
   "version": "3.11.3"
  },
  "vscode": {
   "interpreter": {
    "hash": "31f2aee4e71d21fbe5cf8b01ff0e069b9275f58929596ceb00d14d90e3e16cd6"
   }
  }
 },
 "nbformat": 4,
 "nbformat_minor": 4
}
